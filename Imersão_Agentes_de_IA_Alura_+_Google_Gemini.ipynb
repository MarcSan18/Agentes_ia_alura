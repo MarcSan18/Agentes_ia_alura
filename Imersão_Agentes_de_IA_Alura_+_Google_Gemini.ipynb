{
  "nbformat": 4,
  "nbformat_minor": 0,
  "metadata": {
    "colab": {
      "provenance": [],
      "authorship_tag": "ABX9TyNW/kHU72vKqH4i6yx9awUR",
      "include_colab_link": true
    },
    "kernelspec": {
      "name": "python3",
      "display_name": "Python 3"
    },
    "language_info": {
      "name": "python"
    }
  },
  "cells": [
    {
      "cell_type": "markdown",
      "metadata": {
        "id": "view-in-github",
        "colab_type": "text"
      },
      "source": [
        "<a href=\"https://colab.research.google.com/github/MarcSan18/Agentes_ia_alura/blob/main/Imers%C3%A3o_Agentes_de_IA_Alura_%2B_Google_Gemini.ipynb\" target=\"_parent\"><img src=\"https://colab.research.google.com/assets/colab-badge.svg\" alt=\"Open In Colab\"/></a>"
      ]
    },
    {
      "cell_type": "code",
      "execution_count": 51,
      "metadata": {
        "collapsed": true,
        "id": "NKWohJQEsZzj"
      },
      "outputs": [],
      "source": [
        "!pip install -q --upgrade langchain langchain-google-genai google-generativeai"
      ]
    },
    {
      "cell_type": "markdown",
      "source": [],
      "metadata": {
        "id": "k13jNk-swN3_"
      }
    },
    {
      "cell_type": "code",
      "source": [
        "from google.colab import userdata\n",
        "from langchain_google_genai import ChatGoogleGenerativeAI\n",
        "\n",
        "GOOGLE_API_KEY = userdata.get('GEMINI_API_KEY')"
      ],
      "metadata": {
        "id": "8tiyX4A3xum5"
      },
      "execution_count": 52,
      "outputs": []
    },
    {
      "cell_type": "code",
      "source": [
        "llm = ChatGoogleGenerativeAI(\n",
        "    model='gemini-2.5-flash',\n",
        "    temperature=0.0,\n",
        "    api_key=GOOGLE_API_KEY\n",
        ")"
      ],
      "metadata": {
        "id": "9Ixfm6Ab39Pm"
      },
      "execution_count": 53,
      "outputs": []
    },
    {
      "cell_type": "code",
      "source": [
        "resp_test= llm.invoke(\"quem é voce? Seja direto.\")\n",
        "print(resp_test.content)"
      ],
      "metadata": {
        "colab": {
          "base_uri": "https://localhost:8080/"
        },
        "id": "4MVs6EFV6OfS",
        "outputId": "5eb4b77f-d582-4c0a-9ff1-c85e407670b7"
      },
      "execution_count": 54,
      "outputs": [
        {
          "output_type": "stream",
          "name": "stdout",
          "text": [
            "Eu sou um modelo de linguagem grande, treinado pelo Google.\n"
          ]
        }
      ]
    },
    {
      "cell_type": "code",
      "source": [
        "TRIAGEM_PROMPT = (\n",
        "    \"Você é um triador de Service Desk para políticas internas da empresa Carraro Desenvolvimento. \"\n",
        "    \"Dada a mensagem do usuário, retorne SOMENTE um JSON com:\\n\"\n",
        "    \"{\\n\"\n",
        "    '  \"decisao\": \"AUTO_RESOLVER\" | \"PEDIR_INFO\" | \"ABRIR_CHAMADO\",\\n'\n",
        "    '  \"urgencia\": \"BAIXA\" | \"MEDIA\" | \"ALTA\",\\n'\n",
        "    '  \"campos_faltantes\": [\"...\"]\\n'\n",
        "    \"}\\n\"\n",
        "    \"Regras:\\n\"\n",
        "    '- **AUTO_RESOLVER**: Perguntas claras sobre regras ou procedimentos descritos nas políticas (Ex: \"Posso reembolsar a internet do meu home office?\", \"Como funciona a política de alimentação em viagens?\").\\n'\n",
        "    '- **PEDIR_INFO**: Mensagens vagas ou que faltam informações para identificar o tema ou contexto (Ex: \"Preciso de ajuda com uma política\", \"Tenho uma dúvida geral\").\\n'\n",
        "    '- **ABRIR_CHAMADO**: Pedidos de exceção, liberação, aprovação ou acesso especial, ou quando o usuário explicitamente pede para abrir um chamado (Ex: \"Quero exceção para trabalhar 5 dias remoto.\", \"Solicito liberação para anexos externos.\", \"Por favor, abra um chamado para o RH.\").'\n",
        "    \"Analise a mensagem e decida a ação mais apropriada.\"\n",
        ")"
      ],
      "metadata": {
        "id": "Tse2wRWW73-S"
      },
      "execution_count": 55,
      "outputs": []
    },
    {
      "cell_type": "code",
      "source": [
        "from pydantic import BaseModel, Field\n",
        "from typing import Literal, List, Dict\n",
        "\n",
        "class TriagemOut(BaseModel):\n",
        "    decisão: Literal[\"AUTO_RESOLVER\", \"PEDIR_INFO\", \"ABRIR_CHAMADO\"]\n",
        "    urgencia: Literal[\"BAIXA\", \"MEDIA\", \"ALTA\"]\n",
        "    campos_faltantes: List[str] = Field(default_factory=list)\n"
      ],
      "metadata": {
        "id": "DloQZR1e-x_I"
      },
      "execution_count": 56,
      "outputs": []
    },
    {
      "cell_type": "code",
      "source": [
        "llm_triagem = ChatGoogleGenerativeAI(\n",
        "    model='gemini-2.5-flash',\n",
        "    temperature=0.0,\n",
        "    api_key=GOOGLE_API_KEY\n",
        ")"
      ],
      "metadata": {
        "id": "5ZLlz_otJSFQ"
      },
      "execution_count": 57,
      "outputs": []
    },
    {
      "cell_type": "code",
      "source": [
        "from langchain_core.messages import SystemMessage, HumanMessage\n",
        "\n",
        "triagem_chain = llm_triagem.with_structured_output(TriagemOut)\n",
        "\n",
        "def triagem (mensagem: str) -> Dict:\n",
        "    saida: TriagemOut = triagem_chain.invoke([\n",
        "        SystemMessage(content=TRIAGEM_PROMPT),\n",
        "        HumanMessage(content=mensagem)\n",
        "    ])\n",
        "\n",
        "    return saida.model_dump()"
      ],
      "metadata": {
        "id": "eK0y97LNJtqJ"
      },
      "execution_count": 58,
      "outputs": []
    },
    {
      "cell_type": "code",
      "source": [
        "testes = (\"posso reembolsar a irtenet?\",\n",
        "          \"Quero mais 5 dias de trabalho remoto, Como faço?\",\n",
        "          \"Como será o dia amanhã em Ilheus na Bahia?\")"
      ],
      "metadata": {
        "id": "SehV0EGYNex9"
      },
      "execution_count": 59,
      "outputs": []
    },
    {
      "cell_type": "markdown",
      "source": [],
      "metadata": {
        "id": "IvmQAs0mNrGu"
      }
    },
    {
      "cell_type": "code",
      "source": [
        "for msg_test in testes:\n",
        "    print(f\"Pergunta: {msg_test}\\n) -> Resposta:{triagem(msg_test)}|n\")"
      ],
      "metadata": {
        "id": "oM-l226xOGZS"
      },
      "execution_count": null,
      "outputs": []
    },
    {
      "cell_type": "code",
      "source": [
        "!pip install -q --upgrade langchain_community faiss-cpu langchain-text-splitters pymupdf"
      ],
      "metadata": {
        "collapsed": true,
        "id": "-kaAtlemdZtj"
      },
      "execution_count": 61,
      "outputs": []
    },
    {
      "cell_type": "code",
      "source": [
        "from logging import exception\n",
        "from pathlib  import Path\n",
        "from langchain_community.document_loaders import PyMuPDFLoader\n",
        "\n",
        "docs = []\n",
        "\n",
        "for n in Path(\"/content/\").glob(\"*.pdf\"):\n",
        "   try:\n",
        "      loader = PyMuPDFLoader(str(n))\n",
        "      docs.extend(loader.load())\n",
        "      print(f\"carregado com sucesso arquivo {n.name}\")\n",
        "   except exception as e:\n",
        "      print(f\"erro ao carregar arquivo {n.name}: {e}\")\n",
        "print (f\"total de documentos carregados: {len(docs)}\")\n"
      ],
      "metadata": {
        "colab": {
          "base_uri": "https://localhost:8080/"
        },
        "id": "dcNRIjmMelB0",
        "outputId": "80f412b7-d973-478f-dafb-4bbc59fb6a15"
      },
      "execution_count": 62,
      "outputs": [
        {
          "output_type": "stream",
          "name": "stdout",
          "text": [
            "carregado com sucesso arquivo Política de Uso de E-mail e Segurança da Informação.pdf\n",
            "carregado com sucesso arquivo Política de Reembolsos (Viagens e Despesas).pdf\n",
            "carregado com sucesso arquivo Políticas de Home Office.pdf\n",
            "total de documentos carregados: 3\n"
          ]
        }
      ]
    },
    {
      "cell_type": "code",
      "source": [
        "from langchain.text_splitter import RecursiveCharacterTextSplitter\n",
        "\n",
        "text_splitter = RecursiveCharacterTextSplitter(\n",
        "    chunk_size = 300,\n",
        "    chunk_overlap  = 30\n",
        ")\n",
        "\n",
        "chunks = text_splitter.split_documents(docs)"
      ],
      "metadata": {
        "id": "Ol-WjusJjx5B"
      },
      "execution_count": 63,
      "outputs": []
    },
    {
      "cell_type": "code",
      "source": [
        "chunks"
      ],
      "metadata": {
        "collapsed": true,
        "id": "-Vt0zQ6ylvol"
      },
      "execution_count": null,
      "outputs": []
    },
    {
      "cell_type": "code",
      "source": [
        "from langchain_google_genai import GoogleGenerativeAIEmbeddings\n",
        "\n",
        "embeddings = GoogleGenerativeAIEmbeddings(\n",
        "    model = \"models/gemini-embedding-001\",\n",
        "    google_api_key = GOOGLE_API_KEY\n",
        ")"
      ],
      "metadata": {
        "id": "aeRTObZYm92d"
      },
      "execution_count": 65,
      "outputs": []
    },
    {
      "cell_type": "code",
      "source": [
        "from langchain_community.vectorstores import FAISS\n",
        "\n",
        "vectorstore = FAISS.from_documents(chunks, embeddings)\n",
        "\n",
        "retriever = vectorstore.as_retriever(search_type=\"similarity_score_threshold\",\n",
        "                                     search_kwargs={\"score_threshold\":0.3, \"k\": 4})"
      ],
      "metadata": {
        "id": "r6Hajjq4_LSK"
      },
      "execution_count": 66,
      "outputs": []
    },
    {
      "cell_type": "code",
      "source": [
        "from langchain_core.prompts import ChatPromptTemplate\n",
        "from langchain.chains.combine_documents import create_stuff_documents_chain\n",
        "\n",
        "prompt_rag = ChatPromptTemplate.from_messages([\n",
        "    (\"system\", \"Você é um assistente de Service Desk (RH/IT) da empresa Carraro Desenvolvimento.\"\n",
        "     \"Responda SOMENTE com base no contexto fornecido.\"\n",
        "     \"Se não houver base suficiente, responda apenas 'Não sei'.\"),\n",
        "    (\"human\", \"Pergunte: {input}\\n\\nContesto: \\n{context}\")\n",
        "])\n",
        "\n",
        "document_chain = create_stuff_documents_chain(llm, prompt_rag)"
      ],
      "metadata": {
        "id": "REwEnSVewZgu"
      },
      "execution_count": 67,
      "outputs": []
    },
    {
      "cell_type": "code",
      "source": [
        "import re, pathlib\n",
        "\n",
        "def _clean_text(s: str) -> str:\n",
        "    return re.sub(r\"\\s+\", \" \", s or \"\").strip()\n",
        "\n",
        "def extrair_trecho(texto: str, query: str, janela: int = 240) -> str:\n",
        "    txt = _clean_text(texto)\n",
        "    termos = [t.lower() for t in re.findall(r\"\\w+\", query or \"\") if len(t) >= 4]\n",
        "    pos = -1\n",
        "    for t in termos:\n",
        "        pos = txt.lower().find(t)\n",
        "        if pos != -1: break\n",
        "    if pos == -1: pos = 0\n",
        "    ini, fim = max(0, pos - janela//2), min(len(txt), pos + janela//2)\n",
        "    return txt[ini:fim]\n",
        "\n",
        "def formatar_citacoes(docs_rel: List, query: str) -> List[Dict]:\n",
        "    cites, seen = [], set()\n",
        "    for d in docs_rel:\n",
        "        src = pathlib.Path(d.metadata.get(\"source\",\"\")).name\n",
        "        page = int(d.metadata.get(\"page\", 0)) + 1\n",
        "        key = (src, page)\n",
        "        if key in seen:\n",
        "            continue\n",
        "        seen.add(key)\n",
        "        cites.append({\"documento\": src, \"pagina\": page, \"trecho\": extrair_trecho(d.page_content, query)})\n",
        "    return cites[:3]"
      ],
      "metadata": {
        "id": "TFXl4XW5GiXE"
      },
      "execution_count": 68,
      "outputs": []
    },
    {
      "cell_type": "code",
      "source": [
        "def perguntar_politica_RAG(pergunta: str) -> Dict:\n",
        "    docs_relacionados = retriever.invoke(pergunta)\n",
        "\n",
        "    if not docs_relacionados:\n",
        "        return {\"answer\": \"Não sei.\",\n",
        "                \"citacoes\": [],\n",
        "                \"contexto_encontrado\": False}\n",
        "\n",
        "    answer = document_chain.invoke({\"input\": pergunta,\n",
        "                                    \"context\": docs_relacionados})\n",
        "\n",
        "    txt = (answer or \"\").strip()\n",
        "\n",
        "    if txt.rstrip(\".!?\") == \"Não sei\":\n",
        "        return {\"answer\": \"Não sei.\",\n",
        "                \"citacoes\": [],\n",
        "                \"contexto_encontrado\": False}\n",
        "\n",
        "    return {\"answer\": txt,\n",
        "            \"citacoes\": formatar_citacoes(docs_relacionados, pergunta),\n",
        "            \"contexto_encontrado\": True}"
      ],
      "metadata": {
        "id": "LIEL-CI4CgTP"
      },
      "execution_count": 69,
      "outputs": []
    },
    {
      "cell_type": "code",
      "source": [
        "testes = [\"Posso reembolsar a internet?\",\n",
        "          \"Quero mais 5 dias de trabalho remoto. Como faço?\",\n",
        "          \"Posso reembolsar cursos ou treinamentos da Alura?\",\n",
        "          \"Quantos peixes tem no Rio Cachoeira?\"]"
      ],
      "metadata": {
        "id": "rsf5VeODxKNF"
      },
      "execution_count": 70,
      "outputs": []
    },
    {
      "cell_type": "code",
      "source": [
        "for msg_teste in testes:\n",
        "    if 'retriever' not in locals():\n",
        "        print(\"Erro: 'retriever' não está definido. Por favor, execute a célula que cria o retriever (célula 2R5mIkSIqoLV) e resolva o problema de cota, se houver.\")\n",
        "        break\n",
        "    resposta = perguntar_politica_RAG(msg_teste)\n",
        "    print(f\"PERGUNTA: {msg_teste}\")\n",
        "    print(f\"RESPOSTA: {resposta['answer']}\")\n",
        "    if resposta['contexto_encontrado']:\n",
        "        print(\"CITAÇÕES:\")\n",
        "        for c in resposta['citacoes']:\n",
        "            print(f\" - Documento: {c['documento']}, Página: {c['pagina']}\")\n",
        "            print(f\"   Trecho: {c['trecho']}\")\n",
        "        print(\"------------------------------------\")"
      ],
      "metadata": {
        "id": "ESWIbW015xIs",
        "collapsed": true
      },
      "execution_count": null,
      "outputs": []
    },
    {
      "cell_type": "code",
      "source": [
        "!pip install -q --upgrade langgraph"
      ],
      "metadata": {
        "id": "34MNF6CJcVxS"
      },
      "execution_count": 72,
      "outputs": []
    },
    {
      "cell_type": "code",
      "source": [
        "from typing import TypedDict, Optional\n",
        "\n",
        "class AgentState(TypedDict, total = False):\n",
        "    pergunta: str\n",
        "    triagem: dict\n",
        "    resposta: Optional[str]\n",
        "    citacoes: List[dict]\n",
        "    rag_sucesso: bool\n",
        "    acao_final: str"
      ],
      "metadata": {
        "id": "8H5sDGtfcjJ5"
      },
      "execution_count": 73,
      "outputs": []
    },
    {
      "cell_type": "code",
      "source": [
        "def node_triagem(state: AgentState) -> AgentState:\n",
        "    print(\"Executando nó de triagem...\")\n",
        "    return {\"triagem\": triagem(state[\"pergunta\"])}"
      ],
      "metadata": {
        "id": "3qtumDokfUFI"
      },
      "execution_count": 74,
      "outputs": []
    },
    {
      "cell_type": "code",
      "source": [
        "def node_auto_resolver(state: AgentState) -> AgentState:\n",
        "    print(\"Executando nó de auto_resolver...\")\n",
        "    resposta_rag = perguntar_politica_RAG(state[\"pergunta\"])\n",
        "\n",
        "    update: AgentState = {\n",
        "        \"resposta\": resposta_rag[\"answer\"],\n",
        "        \"citacoes\": resposta_rag.get(\"citacoes\", []),\n",
        "        \"rag_sucesso\": resposta_rag[\"contexto_encontrado\"],\n",
        "    }\n",
        "\n",
        "    if resposta_rag[\"contexto_encontrado\"]:\n",
        "        update[\"acao_final\"] = \"AUTO_RESOLVER\"\n",
        "\n",
        "    return update"
      ],
      "metadata": {
        "id": "BtI48T4_gOL9"
      },
      "execution_count": 75,
      "outputs": []
    },
    {
      "cell_type": "code",
      "source": [
        "def node_pedir_info(state: AgentState) -> AgentState:\n",
        "    print(\"Executando nó de pedir_info...\")\n",
        "    faltantes = state[\"triagem\"].get(\"campos_faltantes\", [])\n",
        "    if faltantes:\n",
        "        detalhe = \",\".join(faltantes)\n",
        "    else:\n",
        "        detalhe = \"Tema e contexto específico\"\n",
        "\n",
        "    return {\n",
        "        \"resposta\": f\"Para avançar, preciso que detalhe: {detalhe}\",\n",
        "        \"citacoes\": [],\n",
        "        \"acao_final\": \"PEDIR_INFO\"\n",
        "    }"
      ],
      "metadata": {
        "id": "6MZRyLA7hpBa"
      },
      "execution_count": 76,
      "outputs": []
    },
    {
      "cell_type": "code",
      "source": [
        "def node_abrir_chamado(state: AgentState) -> AgentState:\n",
        "    print(\"Executando nó de abrir_chamado...\")\n",
        "    triagem = state[\"triagem\"]\n",
        "\n",
        "    return {\n",
        "        \"resposta\": f\"Abrindo chamado com urgência {triagem['urgencia']}. Descrição: {state['pergunta'][:140]}\",\n",
        "        \"citacoes\": [],\n",
        "        \"acao_final\": \"ABRIR_CHAMADO\"\n",
        "    }"
      ],
      "metadata": {
        "id": "mIzhqLsJiok0"
      },
      "execution_count": 77,
      "outputs": []
    },
    {
      "cell_type": "code",
      "source": [
        "KEYWORDS_ABRIR_TICKET = [\"aprovação\", \"exceção\", \"liberação\", \"abrir ticket\", \"abrir chamado\", \"acesso especial\"]\n",
        "\n",
        "def decidir_pos_triagem(state: AgentState) -> str:\n",
        "    print(\"Decidindo após a triagem...\")\n",
        "    decisao = state[\"triagem\"][\"decisão\"]\n",
        "\n",
        "    if decisao == \"AUTO_RESOLVER\": return \"auto\"\n",
        "    if decisao == \"PEDIR_INFO\": return \"info\"\n",
        "    if decisao == \"ABRIR_CHAMADO\": return \"chamado\""
      ],
      "metadata": {
        "id": "oBPFn6G0keqi"
      },
      "execution_count": 78,
      "outputs": []
    },
    {
      "cell_type": "code",
      "source": [
        "def decidir_pos_auto_resolver(state: AgentState) -> str:\n",
        "    print(\"Decidindo após o auto_resolver...\")\n",
        "\n",
        "    if state.get(\"rag_sucesso\"):\n",
        "        print(\"Rag com sucesso, finalizando o fluxo.\")\n",
        "        return \"ok\"\n",
        "\n",
        "    state_da_pergunta = (state[\"pergunta\"] or \"\").lower()\n",
        "\n",
        "    if any(k in state_da_pergunta for k in KEYWORDS_ABRIR_TICKET):\n",
        "        print(\"Rag falhou, mas foram encontradas keywords de abertura de ticket. Abrindo...\")\n",
        "        return \"chamado\"\n",
        "\n",
        "    print(\"Rag falhou, sem keywords, vou pedir mais informações...\")\n",
        "    return \"info\""
      ],
      "metadata": {
        "id": "DlDrnIhLmPQR"
      },
      "execution_count": 79,
      "outputs": []
    },
    {
      "cell_type": "code",
      "source": [
        "from langgraph.graph import StateGraph, START, END\n",
        "\n",
        "workflow = StateGraph(AgentState)\n",
        "\n",
        "workflow.add_node(\"triagem\", node_triagem)\n",
        "workflow.add_node(\"auto_resolver\", node_auto_resolver)\n",
        "workflow.add_node(\"pedir_info\", node_pedir_info)\n",
        "workflow.add_node(\"abrir_chamado\", node_abrir_chamado)\n",
        "\n",
        "workflow.add_edge(START, \"triagem\")\n",
        "workflow.add_conditional_edges(\"triagem\", decidir_pos_triagem, {\n",
        "    \"auto\": \"auto_resolver\",\n",
        "    \"info\": \"pedir_info\",\n",
        "    \"chamado\": \"abrir_chamado\"\n",
        "})\n",
        "\n",
        "workflow.add_conditional_edges(\"auto_resolver\", decidir_pos_auto_resolver, {\n",
        "    \"info\": \"pedir_info\",\n",
        "    \"chamado\": \"abrir_chamado\",\n",
        "    \"ok\": END\n",
        "})\n",
        "\n",
        "workflow.add_edge(\"pedir_info\", END)\n",
        "workflow.add_edge(\"abrir_chamado\", END)\n",
        "\n",
        "grafo = workflow.compile()"
      ],
      "metadata": {
        "id": "mLPIuTFaoEnQ"
      },
      "execution_count": 80,
      "outputs": []
    },
    {
      "cell_type": "code",
      "source": [
        "from IPython.display import display, Image\n",
        "\n",
        "graph_bytes = grafo.get_graph().draw_mermaid_png()\n",
        "display(Image(graph_bytes))"
      ],
      "metadata": {
        "id": "kH3lAoRtqvNf"
      },
      "execution_count": null,
      "outputs": []
    },
    {
      "cell_type": "code",
      "source": [
        "tests= [\"Posso reembolsar a internet?\",\n",
        "          \"Quero mais 5 dias de trabalho remoto. Como faço?\",\n",
        "          \"Posso reembolsar cursos ou treinamentos da Alura?\",\n",
        "          \"É possível reembolsar certificações do Google Cloud?\",\n",
        "          \"Posso obter o Google Gemini de graça?\",\n",
        "          \"Qual é a palavra-chave da aula de hoje?\",\n",
        "          \"Quantos peixes tem no mar?\"]"
      ],
      "metadata": {
        "id": "zyz3X8JJBKtL"
      },
      "execution_count": 82,
      "outputs": []
    },
    {
      "cell_type": "code",
      "source": [
        "for msg_test in testes:\n",
        "    resposta_final = grafo.invoke({\"pergunta\": msg_test})\n",
        "\n",
        "    triag = resposta_final.get(\"triagem\", {})\n",
        "    print(f\"PERGUNTA: {msg_test}\")\n",
        "    print(f\"DECISÃO: {triag.get('decisao')} | URGÊNCIA: {triag.get('urgencia')} | AÇÃO FINAL: {resposta_final.get('acao_final')}\")\n",
        "    print(f\"RESPOSTA: {resposta_final.get('resposta')}\")\n",
        "    if resposta_final.get(\"citacoes\"):\n",
        "        print(\"CITAÇÕES:\")\n",
        "        for citacao in resposta_final.get(\"citacoes\"):\n",
        "            print(f\" - Documento: {citacao['documento']}, Página: {citacao['pagina']}\")\n",
        "            print(f\"   Trecho: {citacao['trecho']}\")\n",
        "\n",
        "    print(\"------------------------------------\")"
      ],
      "metadata": {
        "id": "Q6-MT30LA8WV"
      },
      "execution_count": null,
      "outputs": []
    },
    {
      "cell_type": "code",
      "source": [
        "# Create a dummy document and chunks since no PDFs were loaded\n",
        "from langchain_core.documents import Document\n",
        "\n",
        "if not docs:\n",
        "    dummy_content = \"This is a dummy document content because no PDF files were found.\"\n",
        "    dummy_doc = Document(page_content=dummy_content, metadata={\"source\": \"dummy.pdf\", \"page\": 0})\n",
        "    docs = [dummy_doc]\n",
        "    chunks = splitter.split_documents(docs)\n",
        "    print(\"Created dummy document and chunks for demonstration.\")\n",
        "else:\n",
        "    print(\"PDF documents were loaded, using actual chunks.\")"
      ],
      "metadata": {
        "id": "8pSWuejmrQ1k"
      },
      "execution_count": null,
      "outputs": []
    }
  ]
}